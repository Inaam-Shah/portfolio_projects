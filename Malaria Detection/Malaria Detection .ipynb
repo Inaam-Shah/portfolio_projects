{
 "cells": [
  {
   "cell_type": "code",
   "execution_count": 1,
   "id": "83e7d805-9ff2-4b58-8cf1-84369379c3e2",
   "metadata": {},
   "outputs": [],
   "source": [
    "# Download The Dataset from \n",
    "#https://www.kaggle.com/iarunava/cell-images-for-detecting-malaria"
   ]
  },
  {
   "cell_type": "code",
   "execution_count": 82,
   "id": "e8d8cece-7d23-4b11-82f0-15b2670b5720",
   "metadata": {},
   "outputs": [],
   "source": [
    "from tensorflow.keras.layers import Input, Lambda, Dense, Flatten, Conv2D, MaxPool2D\n",
    "from tensorflow.keras.models import Model\n",
    "from tensorflow.keras.applications.vgg19 import VGG19\n",
    "from tensorflow.keras.applications.resnet50 import preprocess_input\n",
    "from tensorflow.keras.preprocessing.image import ImageDataGenerator, load_img\n",
    "from tensorflow.keras.models import Sequential\n",
    "import numpy as np\n",
    "from glob import glob\n",
    "import matplotlib.pyplot as plt"
   ]
  },
  {
   "cell_type": "code",
   "execution_count": 53,
   "id": "3edd7051-5960-4c1c-8c33-c2a32b4fd8d0",
   "metadata": {},
   "outputs": [],
   "source": [
    "# re-size all the images to this\n",
    "IMAGE_SIZE = [224, 224]\n",
    "\n",
    "train_path = 'cell_images/Train'\n",
    "valid_path = 'cell_images/Test'\n"
   ]
  },
  {
   "cell_type": "code",
   "execution_count": 54,
   "id": "11c9dc0f-3988-430e-ada7-f16ec309ceb0",
   "metadata": {},
   "outputs": [],
   "source": [
    "# Import the Vgg 16 library as shown below and add preprocessing layer to the front of VGG\n",
    "# Here we will be using imagenet weights\n",
    "\n",
    "mobilnet = VGG19(input_shape=IMAGE_SIZE + [3], weights='imagenet', include_top=False)\n"
   ]
  },
  {
   "cell_type": "code",
   "execution_count": 55,
   "id": "03344219-50c9-48ab-b6bd-c16c0cb66643",
   "metadata": {},
   "outputs": [],
   "source": [
    "# don't train existing weights\n",
    "for layer in mobilnet.layers:\n",
    "    layer.trainable = False"
   ]
  },
  {
   "cell_type": "code",
   "execution_count": 56,
   "id": "21c1b31f-1494-4f53-b541-befe0cd08e38",
   "metadata": {},
   "outputs": [],
   "source": [
    "  # useful for getting number of output classes\n",
    "folders = glob('Dataset/Train/*')"
   ]
  },
  {
   "cell_type": "code",
   "execution_count": 57,
   "id": "d548b93d-1940-4140-9c92-d3b8389b3a51",
   "metadata": {},
   "outputs": [
    {
     "data": {
      "text/plain": [
       "['Dataset/Train\\\\Parasite', 'Dataset/Train\\\\Uninfected']"
      ]
     },
     "execution_count": 57,
     "metadata": {},
     "output_type": "execute_result"
    }
   ],
   "source": [
    "folders"
   ]
  },
  {
   "cell_type": "code",
   "execution_count": 58,
   "id": "98e89010-4556-42ee-a455-9b29b4b8c3cf",
   "metadata": {},
   "outputs": [],
   "source": [
    "# our layers - you can add more if you want\n",
    "x = Flatten()(mobilnet.output)"
   ]
  },
  {
   "cell_type": "code",
   "execution_count": 59,
   "id": "91247e39-e8f6-4c95-b549-399ed59db206",
   "metadata": {},
   "outputs": [],
   "source": [
    "prediction = Dense(len(folders), activation='softmax')(x)\n",
    "\n",
    "# create a model object\n",
    "model = Model(inputs=mobilnet.input, outputs=prediction)"
   ]
  },
  {
   "cell_type": "code",
   "execution_count": 15,
   "id": "b3d24082-6523-4277-9195-f07ea14a07b1",
   "metadata": {},
   "outputs": [
    {
     "name": "stdout",
     "output_type": "stream",
     "text": [
      "Model: \"model\"\n",
      "_________________________________________________________________\n",
      " Layer (type)                Output Shape              Param #   \n",
      "=================================================================\n",
      " input_1 (InputLayer)        [(None, 224, 224, 3)]     0         \n",
      "                                                                 \n",
      " block1_conv1 (Conv2D)       (None, 224, 224, 64)      1792      \n",
      "                                                                 \n",
      " block1_conv2 (Conv2D)       (None, 224, 224, 64)      36928     \n",
      "                                                                 \n",
      " block1_pool (MaxPooling2D)  (None, 112, 112, 64)      0         \n",
      "                                                                 \n",
      " block2_conv1 (Conv2D)       (None, 112, 112, 128)     73856     \n",
      "                                                                 \n",
      " block2_conv2 (Conv2D)       (None, 112, 112, 128)     147584    \n",
      "                                                                 \n",
      " block2_pool (MaxPooling2D)  (None, 56, 56, 128)       0         \n",
      "                                                                 \n",
      " block3_conv1 (Conv2D)       (None, 56, 56, 256)       295168    \n",
      "                                                                 \n",
      " block3_conv2 (Conv2D)       (None, 56, 56, 256)       590080    \n",
      "                                                                 \n",
      " block3_conv3 (Conv2D)       (None, 56, 56, 256)       590080    \n",
      "                                                                 \n",
      " block3_conv4 (Conv2D)       (None, 56, 56, 256)       590080    \n",
      "                                                                 \n",
      " block3_pool (MaxPooling2D)  (None, 28, 28, 256)       0         \n",
      "                                                                 \n",
      " block4_conv1 (Conv2D)       (None, 28, 28, 512)       1180160   \n",
      "                                                                 \n",
      " block4_conv2 (Conv2D)       (None, 28, 28, 512)       2359808   \n",
      "                                                                 \n",
      " block4_conv3 (Conv2D)       (None, 28, 28, 512)       2359808   \n",
      "                                                                 \n",
      " block4_conv4 (Conv2D)       (None, 28, 28, 512)       2359808   \n",
      "                                                                 \n",
      " block4_pool (MaxPooling2D)  (None, 14, 14, 512)       0         \n",
      "                                                                 \n",
      " block5_conv1 (Conv2D)       (None, 14, 14, 512)       2359808   \n",
      "                                                                 \n",
      " block5_conv2 (Conv2D)       (None, 14, 14, 512)       2359808   \n",
      "                                                                 \n",
      " block5_conv3 (Conv2D)       (None, 14, 14, 512)       2359808   \n",
      "                                                                 \n",
      " block5_conv4 (Conv2D)       (None, 14, 14, 512)       2359808   \n",
      "                                                                 \n",
      " block5_pool (MaxPooling2D)  (None, 7, 7, 512)         0         \n",
      "                                                                 \n",
      " flatten (Flatten)           (None, 25088)             0         \n",
      "                                                                 \n",
      " dense_1 (Dense)             (None, 2)                 50178     \n",
      "                                                                 \n",
      "=================================================================\n",
      "Total params: 20074562 (76.58 MB)\n",
      "Trainable params: 50178 (196.01 KB)\n",
      "Non-trainable params: 20024384 (76.39 MB)\n",
      "_________________________________________________________________\n"
     ]
    }
   ],
   "source": [
    "# view the structure of the model\n",
    "model.summary()"
   ]
  },
  {
   "cell_type": "code",
   "execution_count": 60,
   "id": "c84f27f9-5066-4179-bf80-b1d9e54b7423",
   "metadata": {},
   "outputs": [],
   "source": [
    "from tensorflow.keras.layers import MaxPooling2D"
   ]
  },
  {
   "cell_type": "code",
   "execution_count": 61,
   "id": "4d047c51-762e-40c9-9c97-106c5d34de04",
   "metadata": {},
   "outputs": [
    {
     "name": "stdout",
     "output_type": "stream",
     "text": [
      "Model: \"sequential_9\"\n",
      "_________________________________________________________________\n",
      " Layer (type)                Output Shape              Param #   \n",
      "=================================================================\n",
      " conv2d_15 (Conv2D)          (None, 224, 224, 16)      208       \n",
      "                                                                 \n",
      " max_pooling2d_9 (MaxPoolin  (None, 112, 112, 16)      0         \n",
      " g2D)                                                            \n",
      "                                                                 \n",
      " conv2d_16 (Conv2D)          (None, 112, 112, 32)      2080      \n",
      "                                                                 \n",
      " max_pooling2d_10 (MaxPooli  (None, 56, 56, 32)        0         \n",
      " ng2D)                                                           \n",
      "                                                                 \n",
      " conv2d_17 (Conv2D)          (None, 56, 56, 64)        8256      \n",
      "                                                                 \n",
      " max_pooling2d_11 (MaxPooli  (None, 28, 28, 64)        0         \n",
      " ng2D)                                                           \n",
      "                                                                 \n",
      " flatten_4 (Flatten)         (None, 50176)             0         \n",
      "                                                                 \n",
      " dense_7 (Dense)             (None, 500)               25088500  \n",
      "                                                                 \n",
      " dense_8 (Dense)             (None, 2)                 1002      \n",
      "                                                                 \n",
      "=================================================================\n",
      "Total params: 25100046 (95.75 MB)\n",
      "Trainable params: 25100046 (95.75 MB)\n",
      "Non-trainable params: 0 (0.00 Byte)\n",
      "_________________________________________________________________\n"
     ]
    }
   ],
   "source": [
    "### Create Model from scratch using CNN\n",
    "model=Sequential()\n",
    "model.add(Conv2D(filters=16,kernel_size=2,padding=\"same\",activation=\"relu\",input_shape=(224,224,3)))\n",
    "model.add(MaxPooling2D(pool_size=2))\n",
    "model.add(Conv2D(filters=32,kernel_size=2,padding=\"same\",activation =\"relu\"))\n",
    "model.add(MaxPooling2D(pool_size=2))\n",
    "model.add(Conv2D(filters=64,kernel_size=2,padding=\"same\",activation=\"relu\"))\n",
    "model.add(MaxPooling2D(pool_size=2))\n",
    "model.add(Flatten())\n",
    "model.add(Dense(500,activation=\"relu\"))\n",
    "model.add(Dense(2,activation=\"softmax\"))\n",
    "model.summary()"
   ]
  },
  {
   "cell_type": "code",
   "execution_count": 62,
   "id": "9516e406-8bb3-4fac-a5c5-f748c51e10a4",
   "metadata": {},
   "outputs": [],
   "source": [
    "# tell the model what cost and optimization method to use\n",
    "model.compile(\n",
    "  loss='categorical_crossentropy',\n",
    "  optimizer='adam',\n",
    "  metrics=['accuracy']\n",
    ")\n"
   ]
  },
  {
   "cell_type": "code",
   "execution_count": 63,
   "id": "04f47eb9-57b1-4ab2-bacb-cc5aba6f14ae",
   "metadata": {},
   "outputs": [],
   "source": [
    "train_datagen = ImageDataGenerator(rescale = 1./255,\n",
    "                                   shear_range = 0.2,\n",
    "                                   zoom_range = 0.2,\n",
    "                                   horizontal_flip = True)\n",
    "\n",
    "test_datagen = ImageDataGenerator(rescale = 1./255)"
   ]
  },
  {
   "cell_type": "code",
   "execution_count": 64,
   "id": "66528ec3-7aee-45ac-ac58-99f09b0c1d53",
   "metadata": {},
   "outputs": [
    {
     "name": "stdout",
     "output_type": "stream",
     "text": [
      "Found 416 images belonging to 2 classes.\n"
     ]
    }
   ],
   "source": [
    "# Make sure you provide the same target size as initialied for the image size\n",
    "training_set = train_datagen.flow_from_directory('Dataset/Train',\n",
    "                                                 target_size = (224, 224),\n",
    "                                                 batch_size = 32,\n",
    "                                                 class_mode = 'categorical')"
   ]
  },
  {
   "cell_type": "code",
   "execution_count": 65,
   "id": "b046f5cb-2b66-4682-abe0-58cb33e496e6",
   "metadata": {},
   "outputs": [
    {
     "data": {
      "text/plain": [
       "<keras.src.preprocessing.image.DirectoryIterator at 0x1a85c806ee0>"
      ]
     },
     "execution_count": 65,
     "metadata": {},
     "output_type": "execute_result"
    }
   ],
   "source": [
    "training_set"
   ]
  },
  {
   "cell_type": "code",
   "execution_count": 66,
   "id": "a3813c55-6689-4960-9525-9c09591bf2ed",
   "metadata": {},
   "outputs": [
    {
     "name": "stdout",
     "output_type": "stream",
     "text": [
      "Found 134 images belonging to 2 classes.\n"
     ]
    }
   ],
   "source": [
    "test_set = test_datagen.flow_from_directory('Dataset/Test',\n",
    "                                            target_size = (224, 224),\n",
    "                                            batch_size = 32,\n",
    "                                            class_mode = 'categorical')"
   ]
  },
  {
   "cell_type": "code",
   "execution_count": 51,
   "id": "7b100b93-6eb5-47ea-9fef-16a5849e49e6",
   "metadata": {},
   "outputs": [
    {
     "data": {
      "text/plain": [
       "<keras.src.preprocessing.image.DirectoryIterator at 0x1a856dbcb80>"
      ]
     },
     "execution_count": 51,
     "metadata": {},
     "output_type": "execute_result"
    }
   ],
   "source": [
    "test_set"
   ]
  },
  {
   "cell_type": "code",
   "execution_count": 69,
   "id": "0a63e1fe-c862-4304-b67f-2d2989c54308",
   "metadata": {},
   "outputs": [
    {
     "name": "stdout",
     "output_type": "stream",
     "text": [
      "Epoch 1/50\n",
      "13/13 [==============================] - 14s 1s/step - loss: 1.4969 - accuracy: 0.4952 - val_loss: 0.8388 - val_accuracy: 0.3209\n",
      "Epoch 2/50\n",
      "13/13 [==============================] - 14s 1s/step - loss: 0.6973 - accuracy: 0.5144 - val_loss: 0.6542 - val_accuracy: 0.6791\n",
      "Epoch 3/50\n",
      "13/13 [==============================] - 14s 1s/step - loss: 0.6602 - accuracy: 0.5793 - val_loss: 0.6790 - val_accuracy: 0.6269\n",
      "Epoch 4/50\n",
      "13/13 [==============================] - 15s 1s/step - loss: 0.6141 - accuracy: 0.6851 - val_loss: 0.7487 - val_accuracy: 0.3657\n",
      "Epoch 5/50\n",
      "13/13 [==============================] - 15s 1s/step - loss: 0.5637 - accuracy: 0.6851 - val_loss: 1.0757 - val_accuracy: 0.3507\n",
      "Epoch 6/50\n",
      "13/13 [==============================] - 15s 1s/step - loss: 0.5072 - accuracy: 0.7163 - val_loss: 0.9650 - val_accuracy: 0.3358\n",
      "Epoch 7/50\n",
      "13/13 [==============================] - 15s 1s/step - loss: 0.4568 - accuracy: 0.8029 - val_loss: 0.9477 - val_accuracy: 0.3582\n",
      "Epoch 8/50\n",
      "13/13 [==============================] - 15s 1s/step - loss: 0.5474 - accuracy: 0.7043 - val_loss: 0.7418 - val_accuracy: 0.5000\n",
      "Epoch 9/50\n",
      "13/13 [==============================] - 15s 1s/step - loss: 0.4612 - accuracy: 0.7692 - val_loss: 0.9325 - val_accuracy: 0.3806\n",
      "Epoch 10/50\n",
      "13/13 [==============================] - 15s 1s/step - loss: 0.5006 - accuracy: 0.7236 - val_loss: 0.7822 - val_accuracy: 0.4403\n",
      "Epoch 11/50\n",
      "13/13 [==============================] - 14s 1s/step - loss: 0.4345 - accuracy: 0.7837 - val_loss: 0.8400 - val_accuracy: 0.4030\n",
      "Epoch 12/50\n",
      "13/13 [==============================] - 14s 1s/step - loss: 0.4001 - accuracy: 0.8197 - val_loss: 1.0709 - val_accuracy: 0.4030\n",
      "Epoch 13/50\n",
      "13/13 [==============================] - 14s 1s/step - loss: 0.3927 - accuracy: 0.8005 - val_loss: 0.7948 - val_accuracy: 0.4776\n",
      "Epoch 14/50\n",
      "13/13 [==============================] - 14s 1s/step - loss: 0.3970 - accuracy: 0.8053 - val_loss: 0.6888 - val_accuracy: 0.5970\n",
      "Epoch 15/50\n",
      "13/13 [==============================] - 14s 1s/step - loss: 0.3602 - accuracy: 0.8317 - val_loss: 0.8857 - val_accuracy: 0.4552\n",
      "Epoch 16/50\n",
      "13/13 [==============================] - 14s 1s/step - loss: 0.3182 - accuracy: 0.8654 - val_loss: 0.7647 - val_accuracy: 0.5075\n",
      "Epoch 17/50\n",
      "13/13 [==============================] - 14s 1s/step - loss: 0.3139 - accuracy: 0.8582 - val_loss: 0.8001 - val_accuracy: 0.4776\n",
      "Epoch 18/50\n",
      "13/13 [==============================] - 14s 1s/step - loss: 0.3036 - accuracy: 0.8726 - val_loss: 0.6791 - val_accuracy: 0.5896\n",
      "Epoch 19/50\n",
      "13/13 [==============================] - 14s 1s/step - loss: 0.3000 - accuracy: 0.8918 - val_loss: 0.6408 - val_accuracy: 0.6418\n",
      "Epoch 20/50\n",
      "13/13 [==============================] - 14s 1s/step - loss: 0.2970 - accuracy: 0.8846 - val_loss: 0.5066 - val_accuracy: 0.7612\n",
      "Epoch 21/50\n",
      "13/13 [==============================] - 14s 1s/step - loss: 0.3247 - accuracy: 0.8750 - val_loss: 0.4268 - val_accuracy: 0.8284\n",
      "Epoch 22/50\n",
      "13/13 [==============================] - 14s 1s/step - loss: 0.2629 - accuracy: 0.9038 - val_loss: 0.5017 - val_accuracy: 0.7612\n",
      "Epoch 23/50\n",
      "13/13 [==============================] - 14s 1s/step - loss: 0.2086 - accuracy: 0.9207 - val_loss: 0.5198 - val_accuracy: 0.7612\n",
      "Epoch 24/50\n",
      "13/13 [==============================] - 14s 1s/step - loss: 0.2235 - accuracy: 0.9207 - val_loss: 0.5574 - val_accuracy: 0.6866\n",
      "Epoch 25/50\n",
      "13/13 [==============================] - 13s 1s/step - loss: 0.1985 - accuracy: 0.9207 - val_loss: 0.4850 - val_accuracy: 0.7612\n",
      "Epoch 26/50\n",
      "13/13 [==============================] - 14s 1s/step - loss: 0.1783 - accuracy: 0.9495 - val_loss: 0.4517 - val_accuracy: 0.7985\n",
      "Epoch 27/50\n",
      "13/13 [==============================] - 14s 1s/step - loss: 0.1871 - accuracy: 0.9351 - val_loss: 0.7277 - val_accuracy: 0.6343\n",
      "Epoch 28/50\n",
      "13/13 [==============================] - 14s 1s/step - loss: 0.2166 - accuracy: 0.9087 - val_loss: 0.4113 - val_accuracy: 0.7985\n",
      "Epoch 29/50\n",
      "13/13 [==============================] - 14s 1s/step - loss: 0.2142 - accuracy: 0.9183 - val_loss: 0.3356 - val_accuracy: 0.8657\n",
      "Epoch 30/50\n",
      "13/13 [==============================] - 13s 1s/step - loss: 0.1913 - accuracy: 0.9399 - val_loss: 0.2760 - val_accuracy: 0.9104\n",
      "Epoch 31/50\n",
      "13/13 [==============================] - 13s 1s/step - loss: 0.1377 - accuracy: 0.9639 - val_loss: 0.3851 - val_accuracy: 0.7910\n",
      "Epoch 32/50\n",
      "13/13 [==============================] - 14s 1s/step - loss: 0.1115 - accuracy: 0.9688 - val_loss: 0.3532 - val_accuracy: 0.8358\n",
      "Epoch 33/50\n",
      "13/13 [==============================] - 14s 1s/step - loss: 0.1242 - accuracy: 0.9688 - val_loss: 0.3765 - val_accuracy: 0.8134\n",
      "Epoch 34/50\n",
      "13/13 [==============================] - 14s 1s/step - loss: 0.1092 - accuracy: 0.9639 - val_loss: 0.3115 - val_accuracy: 0.8507\n",
      "Epoch 35/50\n",
      "13/13 [==============================] - 14s 1s/step - loss: 0.1390 - accuracy: 0.9567 - val_loss: 0.3580 - val_accuracy: 0.8433\n",
      "Epoch 36/50\n",
      "13/13 [==============================] - 14s 1s/step - loss: 0.1755 - accuracy: 0.9615 - val_loss: 0.4603 - val_accuracy: 0.7910\n",
      "Epoch 37/50\n",
      "13/13 [==============================] - 13s 1s/step - loss: 0.1916 - accuracy: 0.9183 - val_loss: 0.3609 - val_accuracy: 0.8433\n",
      "Epoch 38/50\n",
      "13/13 [==============================] - 13s 999ms/step - loss: 0.1400 - accuracy: 0.9519 - val_loss: 0.2783 - val_accuracy: 0.8582\n",
      "Epoch 39/50\n",
      "13/13 [==============================] - 13s 1s/step - loss: 0.0970 - accuracy: 0.9760 - val_loss: 0.2561 - val_accuracy: 0.8955\n",
      "Epoch 40/50\n",
      "13/13 [==============================] - 13s 1s/step - loss: 0.1011 - accuracy: 0.9663 - val_loss: 0.2208 - val_accuracy: 0.9179\n",
      "Epoch 41/50\n",
      "13/13 [==============================] - 14s 1s/step - loss: 0.0688 - accuracy: 0.9832 - val_loss: 0.3372 - val_accuracy: 0.8433\n",
      "Epoch 42/50\n",
      "13/13 [==============================] - 13s 1s/step - loss: 0.0885 - accuracy: 0.9736 - val_loss: 0.3246 - val_accuracy: 0.8507\n",
      "Epoch 43/50\n",
      "13/13 [==============================] - 13s 1s/step - loss: 0.0761 - accuracy: 0.9736 - val_loss: 0.2524 - val_accuracy: 0.9030\n",
      "Epoch 44/50\n",
      "13/13 [==============================] - 13s 1s/step - loss: 0.0798 - accuracy: 0.9784 - val_loss: 0.2771 - val_accuracy: 0.8881\n",
      "Epoch 45/50\n",
      "13/13 [==============================] - 13s 1s/step - loss: 0.1631 - accuracy: 0.9279 - val_loss: 0.3473 - val_accuracy: 0.8731\n",
      "Epoch 46/50\n",
      "13/13 [==============================] - 14s 1s/step - loss: 0.1400 - accuracy: 0.9543 - val_loss: 0.2859 - val_accuracy: 0.8955\n",
      "Epoch 47/50\n",
      "13/13 [==============================] - 13s 1s/step - loss: 0.0720 - accuracy: 0.9832 - val_loss: 0.2107 - val_accuracy: 0.9104\n",
      "Epoch 48/50\n",
      "13/13 [==============================] - 13s 1s/step - loss: 0.0734 - accuracy: 0.9712 - val_loss: 0.2009 - val_accuracy: 0.9254\n",
      "Epoch 49/50\n",
      "13/13 [==============================] - 13s 1s/step - loss: 0.0584 - accuracy: 0.9832 - val_loss: 0.2435 - val_accuracy: 0.8881\n",
      "Epoch 50/50\n",
      "13/13 [==============================] - 13s 1s/step - loss: 0.0642 - accuracy: 0.9856 - val_loss: 0.5683 - val_accuracy: 0.8284\n"
     ]
    }
   ],
   "source": [
    "# fit the model\n",
    "# Run the cell. It will take some time to execute\n",
    "r = model.fit(\n",
    "  training_set,\n",
    "  validation_data=test_set,\n",
    "  epochs=50,\n",
    "  steps_per_epoch=len(training_set),\n",
    "  validation_steps=len(test_set)\n",
    ")"
   ]
  },
  {
   "cell_type": "code",
   "execution_count": 70,
   "id": "27915516-2367-43c6-be5a-14824200a399",
   "metadata": {},
   "outputs": [
    {
     "data": {
      "image/png": "[encoded data removed]",
      "text/plain": [
       "<Figure size 640x480 with 1 Axes>"
      ]
     },
     "metadata": {},
     "output_type": "display_data"
    },
    {
     "data": {
      "image/png": "[encoded data removed]",
      "text/plain": [
       "<Figure size 640x480 with 1 Axes>"
      ]
     },
     "metadata": {},
     "output_type": "display_data"
    },
    {
     "data": {
      "text/plain": [
       "<Figure size 640x480 with 0 Axes>"
      ]
     },
     "metadata": {},
     "output_type": "display_data"
    }
   ],
   "source": [
    "# plot the loss\n",
    "plt.plot(r.history['loss'], label='train loss')\n",
    "plt.plot(r.history['val_loss'], label='val loss')\n",
    "plt.legend()\n",
    "plt.show()\n",
    "plt.savefig('LossVal_loss')\n",
    "\n",
    "# plot the accuracy\n",
    "plt.plot(r.history['accuracy'], label='train acc')\n",
    "plt.plot(r.history['val_accuracy'], label='val acc')\n",
    "plt.legend()\n",
    "plt.show()\n",
    "plt.savefig('AccVal_acc')"
   ]
  },
  {
   "cell_type": "code",
   "execution_count": 71,
   "id": "ae5c3206-10ff-48ee-9851-cb368fbfdcc8",
   "metadata": {},
   "outputs": [
    {
     "name": "stderr",
     "output_type": "stream",
     "text": [
      "C:\\Users\\Inaam-ul-Haq\\anaconda3\\envs\\tensorflow\\lib\\site-packages\\keras\\src\\engine\\training.py:3103: UserWarning: You are saving your model as an HDF5 file via `model.save()`. This file format is considered legacy. We recommend using instead the native Keras format, e.g. `model.save('my_model.keras')`.\n",
      "  saving_api.save_model(\n"
     ]
    }
   ],
   "source": [
    "# save it as a h5 file\n",
    "\n",
    "\n",
    "from tensorflow.keras.models import load_model\n",
    "\n",
    "model.save('model_vgg19.h5')"
   ]
  },
  {
   "cell_type": "code",
   "execution_count": 85,
   "id": "a117d5f7-aec9-45d8-b474-599b56719323",
   "metadata": {},
   "outputs": [
    {
     "name": "stdout",
     "output_type": "stream",
     "text": [
      "5/5 [==============================] - 1s 111ms/step\n"
     ]
    }
   ],
   "source": [
    "y_pred = model.predict(test_set)\n"
   ]
  },
  {
   "cell_type": "code",
   "execution_count": 86,
   "id": "6d18a220-9b83-4566-82dd-1134dc60982e",
   "metadata": {},
   "outputs": [
    {
     "data": {
      "text/plain": [
       "array([[9.80807126e-01, 1.91928390e-02],\n",
       "       [5.02901450e-02, 9.49709892e-01],\n",
       "       [5.24488762e-02, 9.47551191e-01],\n",
       "       [9.96807098e-01, 3.19294306e-03],\n",
       "       [1.31077422e-02, 9.86892283e-01],\n",
       "       [8.60637844e-01, 1.39362082e-01],\n",
       "       [9.98952031e-01, 1.04799238e-03],\n",
       "       [9.99957085e-01, 4.28957865e-05],\n",
       "       [9.99999046e-01, 9.27685107e-07],\n",
       "       [9.99991059e-01, 8.91311811e-06],\n",
       "       [4.82544722e-03, 9.95174587e-01],\n",
       "       [9.98413324e-01, 1.58671208e-03],\n",
       "       [8.11517239e-01, 1.88482821e-01],\n",
       "       [8.44047725e-01, 1.55952305e-01],\n",
       "       [9.45898965e-02, 9.05410051e-01],\n",
       "       [9.37872753e-03, 9.90621328e-01],\n",
       "       [1.00000000e+00, 1.51333723e-09],\n",
       "       [1.16354942e-01, 8.83645058e-01],\n",
       "       [9.99910712e-01, 8.92520984e-05],\n",
       "       [9.99999523e-01, 5.29930958e-07],\n",
       "       [1.47501091e-02, 9.85249937e-01],\n",
       "       [9.99999285e-01, 7.18775141e-07],\n",
       "       [1.54258925e-02, 9.84574139e-01],\n",
       "       [9.97889459e-01, 2.11054925e-03],\n",
       "       [9.99998093e-01, 1.90195112e-06],\n",
       "       [2.57710721e-02, 9.74228919e-01],\n",
       "       [9.93466556e-01, 6.53339969e-03],\n",
       "       [1.62476804e-02, 9.83752370e-01],\n",
       "       [3.89400981e-02, 9.61059868e-01],\n",
       "       [9.50570703e-01, 4.94293235e-02],\n",
       "       [1.04858065e-02, 9.89514232e-01],\n",
       "       [1.05098551e-02, 9.89490211e-01],\n",
       "       [9.98059690e-01, 1.94025110e-03],\n",
       "       [3.06745525e-02, 9.69325423e-01],\n",
       "       [9.62716818e-01, 3.72831300e-02],\n",
       "       [9.99096036e-01, 9.03998793e-04],\n",
       "       [8.33872855e-02, 9.16612744e-01],\n",
       "       [9.97450650e-01, 2.54930789e-03],\n",
       "       [3.22490185e-03, 9.96775091e-01],\n",
       "       [4.80642123e-03, 9.95193541e-01],\n",
       "       [1.00000000e+00, 1.19907484e-09],\n",
       "       [3.83454300e-02, 9.61654544e-01],\n",
       "       [9.99990344e-01, 9.62822378e-06],\n",
       "       [1.25957578e-01, 8.74042392e-01],\n",
       "       [9.99963284e-01, 3.67456341e-05],\n",
       "       [9.55474019e-01, 4.45259325e-02],\n",
       "       [2.40224637e-02, 9.75977540e-01],\n",
       "       [9.39190149e-01, 6.08098134e-02],\n",
       "       [9.93628561e-01, 6.37142360e-03],\n",
       "       [2.62476236e-01, 7.37523794e-01],\n",
       "       [5.34645095e-03, 9.94653583e-01],\n",
       "       [9.99869943e-01, 1.30057859e-04],\n",
       "       [1.00405850e-02, 9.89959419e-01],\n",
       "       [7.76572168e-01, 2.23427847e-01],\n",
       "       [1.46715539e-02, 9.85328496e-01],\n",
       "       [1.25789806e-01, 8.74210179e-01],\n",
       "       [6.35359824e-01, 3.64640176e-01],\n",
       "       [1.32143367e-02, 9.86785710e-01],\n",
       "       [9.99989986e-01, 9.97399729e-06],\n",
       "       [2.97534149e-02, 9.70246553e-01],\n",
       "       [9.99994397e-01, 5.60387525e-06],\n",
       "       [9.88825023e-01, 1.11750336e-02],\n",
       "       [1.08583942e-02, 9.89141583e-01],\n",
       "       [9.99756038e-01, 2.43924223e-04],\n",
       "       [9.99960542e-01, 3.94928393e-05],\n",
       "       [9.41217244e-01, 5.87828010e-02],\n",
       "       [5.78627875e-03, 9.94213760e-01],\n",
       "       [7.75347054e-01, 2.24652931e-01],\n",
       "       [9.81055379e-01, 1.89446863e-02],\n",
       "       [9.53916609e-01, 4.60833795e-02],\n",
       "       [9.99972343e-01, 2.77045838e-05],\n",
       "       [9.66472924e-01, 3.35271172e-02],\n",
       "       [4.12169620e-02, 9.58783090e-01],\n",
       "       [4.30557737e-03, 9.95694399e-01],\n",
       "       [8.89947355e-01, 1.10052690e-01],\n",
       "       [1.81414932e-03, 9.98185813e-01],\n",
       "       [1.74121913e-02, 9.82587874e-01],\n",
       "       [9.96652544e-01, 3.34747415e-03],\n",
       "       [1.00000000e+00, 3.76169957e-08],\n",
       "       [2.60321259e-01, 7.39678741e-01],\n",
       "       [1.00000000e+00, 7.24624083e-10],\n",
       "       [9.69388485e-01, 3.06115169e-02],\n",
       "       [4.59839255e-02, 9.54016089e-01],\n",
       "       [9.15133893e-01, 8.48661214e-02],\n",
       "       [6.82541914e-03, 9.93174613e-01],\n",
       "       [1.31856101e-02, 9.86814380e-01],\n",
       "       [9.95392203e-01, 4.60776687e-03],\n",
       "       [5.09296581e-02, 9.49070334e-01],\n",
       "       [9.99999762e-01, 2.22895906e-07],\n",
       "       [9.50057507e-01, 4.99425232e-02],\n",
       "       [3.87986898e-01, 6.12013102e-01],\n",
       "       [6.25665067e-03, 9.93743360e-01],\n",
       "       [9.99116123e-01, 8.83860688e-04],\n",
       "       [3.21419351e-02, 9.67858076e-01],\n",
       "       [1.00146299e-02, 9.89985347e-01],\n",
       "       [5.31910248e-02, 9.46808934e-01],\n",
       "       [9.24761653e-01, 7.52383992e-02],\n",
       "       [9.10478473e-01, 8.95214602e-02],\n",
       "       [9.94151056e-01, 5.84892370e-03],\n",
       "       [3.57678276e-03, 9.96423185e-01],\n",
       "       [2.32997179e-01, 7.67002821e-01],\n",
       "       [7.91552570e-03, 9.92084503e-01],\n",
       "       [5.97987413e-01, 4.02012587e-01],\n",
       "       [1.00000000e+00, 5.86817834e-12],\n",
       "       [7.15129554e-01, 2.84870416e-01],\n",
       "       [8.73799682e-01, 1.26200274e-01],\n",
       "       [9.99999523e-01, 5.22839343e-07],\n",
       "       [9.97022688e-01, 2.97733350e-03],\n",
       "       [9.81550097e-01, 1.84498765e-02],\n",
       "       [9.99996901e-01, 3.15750663e-06],\n",
       "       [9.66844320e-01, 3.31556685e-02],\n",
       "       [7.49073050e-04, 9.99250948e-01],\n",
       "       [9.04658623e-03, 9.90953445e-01],\n",
       "       [5.29844947e-02, 9.47015464e-01],\n",
       "       [6.16588891e-02, 9.38341081e-01],\n",
       "       [7.02275615e-03, 9.92977202e-01],\n",
       "       [6.18817694e-02, 9.38118219e-01],\n",
       "       [4.25390266e-02, 9.57460999e-01],\n",
       "       [6.72692608e-04, 9.99327302e-01],\n",
       "       [9.38203275e-01, 6.17966689e-02],\n",
       "       [2.78816535e-03, 9.97211874e-01],\n",
       "       [2.07271408e-02, 9.79272842e-01],\n",
       "       [3.02112917e-03, 9.96978879e-01],\n",
       "       [9.99251425e-01, 7.48562801e-04],\n",
       "       [9.17451456e-02, 9.08254802e-01],\n",
       "       [2.07326794e-03, 9.97926712e-01],\n",
       "       [2.08998263e-01, 7.91001737e-01],\n",
       "       [1.09950798e-02, 9.89004910e-01],\n",
       "       [9.99876022e-01, 1.23980761e-04],\n",
       "       [8.61274958e-01, 1.38725057e-01],\n",
       "       [2.91899778e-02, 9.70809996e-01],\n",
       "       [3.19698602e-01, 6.80301368e-01],\n",
       "       [1.26976490e-01, 8.73023510e-01],\n",
       "       [7.24990992e-03, 9.92750049e-01]], dtype=float32)"
      ]
     },
     "execution_count": 86,
     "metadata": {},
     "output_type": "execute_result"
    }
   ],
   "source": [
    "y_pred"
   ]
  },
  {
   "cell_type": "code",
   "execution_count": 87,
   "id": "327aec66-6394-4069-a142-90a792e0c8dc",
   "metadata": {},
   "outputs": [],
   "source": [
    "import numpy as np\n",
    "y_pred = np.argmax(y_pred, axis=1)"
   ]
  },
  {
   "cell_type": "code",
   "execution_count": 88,
   "id": "229a0fbf-a46c-4109-9bb8-1573337aa332",
   "metadata": {},
   "outputs": [],
   "source": [
    "from tensorflow.keras.models import load_model\n",
    "from tensorflow.keras.preprocessing import image"
   ]
  },
  {
   "cell_type": "code",
   "execution_count": 89,
   "id": "d965fede-d362-4e43-97d6-28cc622c6fbb",
   "metadata": {},
   "outputs": [],
   "source": [
    "model=load_model('model_vgg19.h5')"
   ]
  },
  {
   "cell_type": "code",
   "execution_count": 90,
   "id": "61cb0a30-306b-4d1e-8c41-61ea6049d1b7",
   "metadata": {},
   "outputs": [],
   "source": [
    "img=image.load_img('Dataset/Test/Uninfected/2.png',target_size=(224,224))\n"
   ]
  },
  {
   "cell_type": "code",
   "execution_count": 91,
   "id": "9987d677-701b-4f12-80de-1b6ca1e65db8",
   "metadata": {},
   "outputs": [
    {
     "data": {
      "text/plain": [
       "array([[[0., 0., 0.],\n",
       "        [0., 0., 0.],\n",
       "        [0., 0., 0.],\n",
       "        ...,\n",
       "        [0., 0., 0.],\n",
       "        [0., 0., 0.],\n",
       "        [0., 0., 0.]],\n",
       "\n",
       "       [[0., 0., 0.],\n",
       "        [0., 0., 0.],\n",
       "        [0., 0., 0.],\n",
       "        ...,\n",
       "        [0., 0., 0.],\n",
       "        [0., 0., 0.],\n",
       "        [0., 0., 0.]],\n",
       "\n",
       "       [[0., 0., 0.],\n",
       "        [0., 0., 0.],\n",
       "        [0., 0., 0.],\n",
       "        ...,\n",
       "        [0., 0., 0.],\n",
       "        [0., 0., 0.],\n",
       "        [0., 0., 0.]],\n",
       "\n",
       "       ...,\n",
       "\n",
       "       [[0., 0., 0.],\n",
       "        [0., 0., 0.],\n",
       "        [0., 0., 0.],\n",
       "        ...,\n",
       "        [0., 0., 0.],\n",
       "        [0., 0., 0.],\n",
       "        [0., 0., 0.]],\n",
       "\n",
       "       [[0., 0., 0.],\n",
       "        [0., 0., 0.],\n",
       "        [0., 0., 0.],\n",
       "        ...,\n",
       "        [0., 0., 0.],\n",
       "        [0., 0., 0.],\n",
       "        [0., 0., 0.]],\n",
       "\n",
       "       [[0., 0., 0.],\n",
       "        [0., 0., 0.],\n",
       "        [0., 0., 0.],\n",
       "        ...,\n",
       "        [0., 0., 0.],\n",
       "        [0., 0., 0.],\n",
       "        [0., 0., 0.]]], dtype=float32)"
      ]
     },
     "execution_count": 91,
     "metadata": {},
     "output_type": "execute_result"
    }
   ],
   "source": [
    "x=image.img_to_array(img)\n",
    "x"
   ]
  },
  {
   "cell_type": "code",
   "execution_count": 92,
   "id": "b1d1b55e-dfd9-406d-91d6-82ea84a0d62d",
   "metadata": {},
   "outputs": [
    {
     "data": {
      "text/plain": [
       "(224, 224, 3)"
      ]
     },
     "execution_count": 92,
     "metadata": {},
     "output_type": "execute_result"
    }
   ],
   "source": [
    "x.shape"
   ]
  },
  {
   "cell_type": "code",
   "execution_count": 93,
   "id": "de74860f-d882-4f3f-8f30-70bac83ec4fc",
   "metadata": {},
   "outputs": [],
   "source": [
    "x=x/255"
   ]
  },
  {
   "cell_type": "code",
   "execution_count": 94,
   "id": "84811687-e550-47ec-b4be-d54b6d26f01d",
   "metadata": {},
   "outputs": [
    {
     "data": {
      "text/plain": [
       "(1, 224, 224, 3)"
      ]
     },
     "execution_count": 94,
     "metadata": {},
     "output_type": "execute_result"
    }
   ],
   "source": [
    "x=np.expand_dims(x,axis=0)\n",
    "img_data=preprocess_input(x)\n",
    "img_data.shape"
   ]
  },
  {
   "cell_type": "code",
   "execution_count": 95,
   "id": "5a32d3f7-77f3-41fa-bab3-ad6ad98a3687",
   "metadata": {},
   "outputs": [
    {
     "name": "stdout",
     "output_type": "stream",
     "text": [
      "1/1 [==============================] - 0s 122ms/step\n"
     ]
    },
    {
     "data": {
      "text/plain": [
       "array([[0., 1.]], dtype=float32)"
      ]
     },
     "execution_count": 95,
     "metadata": {},
     "output_type": "execute_result"
    }
   ],
   "source": [
    "model.predict(img_data)"
   ]
  },
  {
   "cell_type": "code",
   "execution_count": 96,
   "id": "6a5a1d2b-e703-4c55-a57e-758d0c465b28",
   "metadata": {},
   "outputs": [
    {
     "name": "stdout",
     "output_type": "stream",
     "text": [
      "1/1 [==============================] - 0s 36ms/step\n"
     ]
    }
   ],
   "source": [
    "a=np.argmax(model.predict(img_data), axis=1)"
   ]
  },
  {
   "cell_type": "code",
   "execution_count": 97,
   "id": "8c39a6b9-6e74-48dd-b659-6cfd00c54f68",
   "metadata": {},
   "outputs": [
    {
     "name": "stdout",
     "output_type": "stream",
     "text": [
      "Uninfected\n"
     ]
    }
   ],
   "source": [
    "if(a==1):\n",
    "    print(\"Uninfected\")\n",
    "else:\n",
    "    print(\"Infected\")"
   ]
  },
  {
   "cell_type": "code",
   "execution_count": null,
   "id": "b7bc1724-2cdb-48b2-8154-d43e8d3a47de",
   "metadata": {},
   "outputs": [],
   "source": []
  }
 ],
 "metadata": {
  "kernelspec": {
   "display_name": "Python 3 (ipykernel)",
   "language": "python",
   "name": "python3"
  },
  "language_info": {
   "codemirror_mode": {
    "name": "ipython",
    "version": 3
   },
   "file_extension": ".py",
   "mimetype": "text/x-python",
   "name": "python",
   "nbconvert_exporter": "python",
   "pygments_lexer": "ipython3",
   "version": "3.9.18"
  }
 },
 "nbformat": 4,
 "nbformat_minor": 5
}
