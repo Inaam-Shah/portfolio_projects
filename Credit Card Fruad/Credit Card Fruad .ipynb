{
 "cells": [
  {
   "cell_type": "code",
   "execution_count": 18,
   "id": "3ec281d1-9674-467c-b0bd-932e73876168",
   "metadata": {},
   "outputs": [],
   "source": [
    "import tensorflow as tf\n",
    "\n",
    "import numpy as np\n",
    "import pandas as pd\n",
    "import matplotlib.pyplot as plt"
   ]
  },
  {
   "cell_type": "code",
   "execution_count": 19,
   "id": "45cf5643-fd94-4829-b448-aa255ebde250",
   "metadata": {},
   "outputs": [],
   "source": [
    "dataset  = pd.read_csv('creditcard.csv')"
   ]
  },
  {
   "cell_type": "code",
   "execution_count": 20,
   "id": "7ede7734-41b5-4cbf-92dc-d178d4c19bb0",
   "metadata": {
    "scrolled": true
   },
   "outputs": [
    {
     "data": {
      "text/html": [
       "<div>\n",
       "<style scoped>\n",
       "    .dataframe tbody tr th:only-of-type {\n",
       "        vertical-align: middle;\n",
       "    }\n",
       "\n",
       "    .dataframe tbody tr th {\n",
       "        vertical-align: top;\n",
       "    }\n",
       "\n",
       "    .dataframe thead th {\n",
       "        text-align: right;\n",
       "    }\n",
       "</style>\n",
       "<table border=\"1\" class=\"dataframe\">\n",
       "  <thead>\n",
       "    <tr style=\"text-align: right;\">\n",
       "      <th></th>\n",
       "      <th>Time</th>\n",
       "      <th>V1</th>\n",
       "      <th>V2</th>\n",
       "      <th>V3</th>\n",
       "      <th>V4</th>\n",
       "      <th>V5</th>\n",
       "      <th>V6</th>\n",
       "      <th>V7</th>\n",
       "      <th>V8</th>\n",
       "      <th>V9</th>\n",
       "      <th>...</th>\n",
       "      <th>V21</th>\n",
       "      <th>V22</th>\n",
       "      <th>V23</th>\n",
       "      <th>V24</th>\n",
       "      <th>V25</th>\n",
       "      <th>V26</th>\n",
       "      <th>V27</th>\n",
       "      <th>V28</th>\n",
       "      <th>Amount</th>\n",
       "      <th>Class</th>\n",
       "    </tr>\n",
       "  </thead>\n",
       "  <tbody>\n",
       "    <tr>\n",
       "      <th>0</th>\n",
       "      <td>0.0</td>\n",
       "      <td>-1.359807</td>\n",
       "      <td>-0.072781</td>\n",
       "      <td>2.536347</td>\n",
       "      <td>1.378155</td>\n",
       "      <td>-0.338321</td>\n",
       "      <td>0.462388</td>\n",
       "      <td>0.239599</td>\n",
       "      <td>0.098698</td>\n",
       "      <td>0.363787</td>\n",
       "      <td>...</td>\n",
       "      <td>-0.018307</td>\n",
       "      <td>0.277838</td>\n",
       "      <td>-0.110474</td>\n",
       "      <td>0.066928</td>\n",
       "      <td>0.128539</td>\n",
       "      <td>-0.189115</td>\n",
       "      <td>0.133558</td>\n",
       "      <td>-0.021053</td>\n",
       "      <td>149.62</td>\n",
       "      <td>0</td>\n",
       "    </tr>\n",
       "    <tr>\n",
       "      <th>1</th>\n",
       "      <td>0.0</td>\n",
       "      <td>1.191857</td>\n",
       "      <td>0.266151</td>\n",
       "      <td>0.166480</td>\n",
       "      <td>0.448154</td>\n",
       "      <td>0.060018</td>\n",
       "      <td>-0.082361</td>\n",
       "      <td>-0.078803</td>\n",
       "      <td>0.085102</td>\n",
       "      <td>-0.255425</td>\n",
       "      <td>...</td>\n",
       "      <td>-0.225775</td>\n",
       "      <td>-0.638672</td>\n",
       "      <td>0.101288</td>\n",
       "      <td>-0.339846</td>\n",
       "      <td>0.167170</td>\n",
       "      <td>0.125895</td>\n",
       "      <td>-0.008983</td>\n",
       "      <td>0.014724</td>\n",
       "      <td>2.69</td>\n",
       "      <td>0</td>\n",
       "    </tr>\n",
       "    <tr>\n",
       "      <th>2</th>\n",
       "      <td>1.0</td>\n",
       "      <td>-1.358354</td>\n",
       "      <td>-1.340163</td>\n",
       "      <td>1.773209</td>\n",
       "      <td>0.379780</td>\n",
       "      <td>-0.503198</td>\n",
       "      <td>1.800499</td>\n",
       "      <td>0.791461</td>\n",
       "      <td>0.247676</td>\n",
       "      <td>-1.514654</td>\n",
       "      <td>...</td>\n",
       "      <td>0.247998</td>\n",
       "      <td>0.771679</td>\n",
       "      <td>0.909412</td>\n",
       "      <td>-0.689281</td>\n",
       "      <td>-0.327642</td>\n",
       "      <td>-0.139097</td>\n",
       "      <td>-0.055353</td>\n",
       "      <td>-0.059752</td>\n",
       "      <td>378.66</td>\n",
       "      <td>0</td>\n",
       "    </tr>\n",
       "    <tr>\n",
       "      <th>3</th>\n",
       "      <td>1.0</td>\n",
       "      <td>-0.966272</td>\n",
       "      <td>-0.185226</td>\n",
       "      <td>1.792993</td>\n",
       "      <td>-0.863291</td>\n",
       "      <td>-0.010309</td>\n",
       "      <td>1.247203</td>\n",
       "      <td>0.237609</td>\n",
       "      <td>0.377436</td>\n",
       "      <td>-1.387024</td>\n",
       "      <td>...</td>\n",
       "      <td>-0.108300</td>\n",
       "      <td>0.005274</td>\n",
       "      <td>-0.190321</td>\n",
       "      <td>-1.175575</td>\n",
       "      <td>0.647376</td>\n",
       "      <td>-0.221929</td>\n",
       "      <td>0.062723</td>\n",
       "      <td>0.061458</td>\n",
       "      <td>123.50</td>\n",
       "      <td>0</td>\n",
       "    </tr>\n",
       "    <tr>\n",
       "      <th>4</th>\n",
       "      <td>2.0</td>\n",
       "      <td>-1.158233</td>\n",
       "      <td>0.877737</td>\n",
       "      <td>1.548718</td>\n",
       "      <td>0.403034</td>\n",
       "      <td>-0.407193</td>\n",
       "      <td>0.095921</td>\n",
       "      <td>0.592941</td>\n",
       "      <td>-0.270533</td>\n",
       "      <td>0.817739</td>\n",
       "      <td>...</td>\n",
       "      <td>-0.009431</td>\n",
       "      <td>0.798278</td>\n",
       "      <td>-0.137458</td>\n",
       "      <td>0.141267</td>\n",
       "      <td>-0.206010</td>\n",
       "      <td>0.502292</td>\n",
       "      <td>0.219422</td>\n",
       "      <td>0.215153</td>\n",
       "      <td>69.99</td>\n",
       "      <td>0</td>\n",
       "    </tr>\n",
       "  </tbody>\n",
       "</table>\n",
       "<p>5 rows × 31 columns</p>\n",
       "</div>"
      ],
      "text/plain": [
       "   Time        V1        V2        V3        V4        V5        V6        V7  \\\n",
       "0   0.0 -1.359807 -0.072781  2.536347  1.378155 -0.338321  0.462388  0.239599   \n",
       "1   0.0  1.191857  0.266151  0.166480  0.448154  0.060018 -0.082361 -0.078803   \n",
       "2   1.0 -1.358354 -1.340163  1.773209  0.379780 -0.503198  1.800499  0.791461   \n",
       "3   1.0 -0.966272 -0.185226  1.792993 -0.863291 -0.010309  1.247203  0.237609   \n",
       "4   2.0 -1.158233  0.877737  1.548718  0.403034 -0.407193  0.095921  0.592941   \n",
       "\n",
       "         V8        V9  ...       V21       V22       V23       V24       V25  \\\n",
       "0  0.098698  0.363787  ... -0.018307  0.277838 -0.110474  0.066928  0.128539   \n",
       "1  0.085102 -0.255425  ... -0.225775 -0.638672  0.101288 -0.339846  0.167170   \n",
       "2  0.247676 -1.514654  ...  0.247998  0.771679  0.909412 -0.689281 -0.327642   \n",
       "3  0.377436 -1.387024  ... -0.108300  0.005274 -0.190321 -1.175575  0.647376   \n",
       "4 -0.270533  0.817739  ... -0.009431  0.798278 -0.137458  0.141267 -0.206010   \n",
       "\n",
       "        V26       V27       V28  Amount  Class  \n",
       "0 -0.189115  0.133558 -0.021053  149.62      0  \n",
       "1  0.125895 -0.008983  0.014724    2.69      0  \n",
       "2 -0.139097 -0.055353 -0.059752  378.66      0  \n",
       "3 -0.221929  0.062723  0.061458  123.50      0  \n",
       "4  0.502292  0.219422  0.215153   69.99      0  \n",
       "\n",
       "[5 rows x 31 columns]"
      ]
     },
     "execution_count": 20,
     "metadata": {},
     "output_type": "execute_result"
    }
   ],
   "source": [
    "dataset.head()"
   ]
  },
  {
   "cell_type": "code",
   "execution_count": 21,
   "id": "6816eb64-a7ca-4661-b390-3bfd8aed82f9",
   "metadata": {},
   "outputs": [
    {
     "data": {
      "text/plain": [
       "(284807, 31)"
      ]
     },
     "execution_count": 21,
     "metadata": {},
     "output_type": "execute_result"
    }
   ],
   "source": [
    "dataset.shape"
   ]
  },
  {
   "cell_type": "code",
   "execution_count": 22,
   "id": "0aeeabf1-a002-457f-90a2-edffae3b1a7c",
   "metadata": {},
   "outputs": [
    {
     "data": {
      "text/plain": [
       "Time      0\n",
       "V1        0\n",
       "V2        0\n",
       "V3        0\n",
       "V4        0\n",
       "V5        0\n",
       "V6        0\n",
       "V7        0\n",
       "V8        0\n",
       "V9        0\n",
       "V10       0\n",
       "V11       0\n",
       "V12       0\n",
       "V13       0\n",
       "V14       0\n",
       "V15       0\n",
       "V16       0\n",
       "V17       0\n",
       "V18       0\n",
       "V19       0\n",
       "V20       0\n",
       "V21       0\n",
       "V22       0\n",
       "V23       0\n",
       "V24       0\n",
       "V25       0\n",
       "V26       0\n",
       "V27       0\n",
       "V28       0\n",
       "Amount    0\n",
       "Class     0\n",
       "dtype: int64"
      ]
     },
     "execution_count": 22,
     "metadata": {},
     "output_type": "execute_result"
    }
   ],
   "source": [
    "# checking null values\n",
    "dataset.isnull().sum()"
   ]
  },
  {
   "cell_type": "code",
   "execution_count": 23,
   "id": "e1ba2af6-69c5-4c7e-ab56-951933c86681",
   "metadata": {},
   "outputs": [
    {
     "name": "stdout",
     "output_type": "stream",
     "text": [
      "<class 'pandas.core.frame.DataFrame'>\n",
      "RangeIndex: 284807 entries, 0 to 284806\n",
      "Data columns (total 31 columns):\n",
      " #   Column  Non-Null Count   Dtype  \n",
      "---  ------  --------------   -----  \n",
      " 0   Time    284807 non-null  float64\n",
      " 1   V1      284807 non-null  float64\n",
      " 2   V2      284807 non-null  float64\n",
      " 3   V3      284807 non-null  float64\n",
      " 4   V4      284807 non-null  float64\n",
      " 5   V5      284807 non-null  float64\n",
      " 6   V6      284807 non-null  float64\n",
      " 7   V7      284807 non-null  float64\n",
      " 8   V8      284807 non-null  float64\n",
      " 9   V9      284807 non-null  float64\n",
      " 10  V10     284807 non-null  float64\n",
      " 11  V11     284807 non-null  float64\n",
      " 12  V12     284807 non-null  float64\n",
      " 13  V13     284807 non-null  float64\n",
      " 14  V14     284807 non-null  float64\n",
      " 15  V15     284807 non-null  float64\n",
      " 16  V16     284807 non-null  float64\n",
      " 17  V17     284807 non-null  float64\n",
      " 18  V18     284807 non-null  float64\n",
      " 19  V19     284807 non-null  float64\n",
      " 20  V20     284807 non-null  float64\n",
      " 21  V21     284807 non-null  float64\n",
      " 22  V22     284807 non-null  float64\n",
      " 23  V23     284807 non-null  float64\n",
      " 24  V24     284807 non-null  float64\n",
      " 25  V25     284807 non-null  float64\n",
      " 26  V26     284807 non-null  float64\n",
      " 27  V27     284807 non-null  float64\n",
      " 28  V28     284807 non-null  float64\n",
      " 29  Amount  284807 non-null  float64\n",
      " 30  Class   284807 non-null  int64  \n",
      "dtypes: float64(30), int64(1)\n",
      "memory usage: 67.4 MB\n"
     ]
    }
   ],
   "source": [
    "dataset.info()"
   ]
  },
  {
   "cell_type": "code",
   "execution_count": 24,
   "id": "49f9d69d-0856-4c6c-8233-afa0de983ee0",
   "metadata": {},
   "outputs": [
    {
     "data": {
      "text/plain": [
       "0    284315\n",
       "1       492\n",
       "Name: Class, dtype: int64"
      ]
     },
     "execution_count": 24,
     "metadata": {},
     "output_type": "execute_result"
    }
   ],
   "source": [
    "# observations in each class\n",
    "dataset['Class'].value_counts()"
   ]
  },
  {
   "cell_type": "code",
   "execution_count": 25,
   "id": "c78ae5a5-0e47-4c1d-bb2c-99f7494344a5",
   "metadata": {},
   "outputs": [],
   "source": [
    "# balence the dataset\n",
    "fraud = dataset[dataset['Class']==1]\n",
    "non_fraud = dataset[dataset['Class']==0]"
   ]
  },
  {
   "cell_type": "code",
   "execution_count": 26,
   "id": "e6b0fc65-e293-41af-bead-21e8b21ceb6e",
   "metadata": {},
   "outputs": [
    {
     "data": {
      "text/plain": [
       "((492, 31), (284315, 31))"
      ]
     },
     "execution_count": 26,
     "metadata": {},
     "output_type": "execute_result"
    }
   ],
   "source": [
    "fraud.shape, non_fraud.shape"
   ]
  },
  {
   "cell_type": "code",
   "execution_count": 27,
   "id": "ad27bdf4-81a3-4536-bb4e-50351d59ad95",
   "metadata": {},
   "outputs": [],
   "source": [
    "# random selection of samples\n",
    "non_fraud_t = non_fraud.sample(n=492)"
   ]
  },
  {
   "cell_type": "code",
   "execution_count": 28,
   "id": "b7d64266-6587-45e7-a86c-0cb053a99dbf",
   "metadata": {},
   "outputs": [
    {
     "data": {
      "text/plain": [
       "(492, 31)"
      ]
     },
     "execution_count": 28,
     "metadata": {},
     "output_type": "execute_result"
    }
   ],
   "source": [
    "non_fraud_t.shape"
   ]
  },
  {
   "cell_type": "code",
   "execution_count": 30,
   "id": "31951cab-2c0a-41cd-a33f-5d040fb49217",
   "metadata": {},
   "outputs": [
    {
     "name": "stderr",
     "output_type": "stream",
     "text": [
      "C:\\Users\\Inaam-ul-Haq\\AppData\\Local\\Temp\\ipykernel_9636\\3921213925.py:2: FutureWarning: The frame.append method is deprecated and will be removed from pandas in a future version. Use pandas.concat instead.\n",
      "  dataset = fraud.append(non_fraud_t, ignore_index=True)\n"
     ]
    }
   ],
   "source": [
    "# merge dataset\n",
    "dataset = fraud.append(non_fraud_t, ignore_index=True)"
   ]
  },
  {
   "cell_type": "code",
   "execution_count": 31,
   "id": "cbccf849-abf3-4226-9410-6c9422c6d386",
   "metadata": {
    "scrolled": true
   },
   "outputs": [
    {
     "name": "stdout",
     "output_type": "stream",
     "text": [
      "         Time        V1        V2        V3        V4        V5        V6  \\\n",
      "0       406.0 -2.312227  1.951992 -1.609851  3.997906 -0.522188 -1.426545   \n",
      "1       472.0 -3.043541 -3.157307  1.088463  2.288644  1.359805 -1.064823   \n",
      "2      4462.0 -2.303350  1.759247 -0.359745  2.330243 -0.821628 -0.075788   \n",
      "3      6986.0 -4.397974  1.358367 -2.592844  2.679787 -1.128131 -1.706536   \n",
      "4      7519.0  1.234235  3.019740 -4.304597  4.732795  3.624201 -1.357746   \n",
      "..        ...       ...       ...       ...       ...       ...       ...   \n",
      "979  164160.0 -0.730483  0.284228 -0.534646 -1.250202  0.308670 -1.553882   \n",
      "980   72403.0  1.200714  0.035131  0.266504  0.307897 -0.147691 -0.043888   \n",
      "981   91036.0  2.016674 -0.031753 -2.056222  0.230817  0.835284  0.084830   \n",
      "982   76594.0  1.259565 -0.087178 -0.043382 -0.809168 -0.496930 -1.197109   \n",
      "983  147660.0 -2.062735 -1.061726 -0.426453 -0.063934  1.488488 -1.895248   \n",
      "\n",
      "           V7        V8        V9  ...       V21       V22       V23  \\\n",
      "0   -2.537387  1.391657 -2.770089  ...  0.517232 -0.035049 -0.465211   \n",
      "1    0.325574 -0.067794 -0.270953  ...  0.661696  0.435477  1.375966   \n",
      "2    0.562320 -0.399147 -0.238253  ... -0.294166 -0.932391  0.172726   \n",
      "3   -3.496197 -0.248778 -0.247768  ...  0.573574  0.176968 -0.436207   \n",
      "4    1.713445 -0.496358 -1.282858  ... -0.379068 -0.704181 -0.656805   \n",
      "..        ...       ...       ...  ...       ...       ...       ...   \n",
      "979  0.892276 -0.061059 -1.943106  ... -0.074004  0.037707 -0.164618   \n",
      "980 -0.187356  0.127611 -0.052964  ... -0.035084 -0.115196  0.003061   \n",
      "981 -0.160749 -0.027438  2.212393  ... -0.413872 -0.838946  0.073814   \n",
      "982  0.171019 -0.208634  0.909906  ...  0.045406  0.359283 -0.180522   \n",
      "983 -0.517595  0.651007  0.220673  ...  0.017229 -0.645747 -0.086012   \n",
      "\n",
      "          V24       V25       V26       V27       V28  Amount  Class  \n",
      "0    0.320198  0.044519  0.177840  0.261145 -0.143276    0.00      1  \n",
      "1   -0.293803  0.279798 -0.145362 -0.252773  0.035764  529.00      1  \n",
      "2   -0.087330 -0.156114 -0.542628  0.039566 -0.153029  239.93      1  \n",
      "3   -0.053502  0.252405 -0.657488 -0.827136  0.849573   59.00      1  \n",
      "4   -1.632653  1.488901  0.566797 -0.010016  0.146793    1.00      1  \n",
      "..        ...       ...       ...       ...       ...     ...    ...  \n",
      "979  0.092072  0.103668  0.778272 -0.076816  0.016385   53.45      0  \n",
      "980 -0.284465  0.281679  0.426550 -0.032642 -0.004785    4.99      0  \n",
      "981 -0.545126  0.012902 -0.114607 -0.052855 -0.038613   35.69      0  \n",
      "982  0.574702  0.902335 -0.579662  0.032910  0.003071    1.00      0  \n",
      "983 -0.128443  0.168112 -0.098841  0.128255 -0.327417   30.00      0  \n",
      "\n",
      "[984 rows x 31 columns]\n"
     ]
    }
   ],
   "source": [
    "print(dataset)"
   ]
  },
  {
   "cell_type": "code",
   "execution_count": 32,
   "id": "57f4369a-a803-4416-b922-2a52bc6e7c2a",
   "metadata": {},
   "outputs": [
    {
     "data": {
      "text/plain": [
       "1    492\n",
       "0    492\n",
       "Name: Class, dtype: int64"
      ]
     },
     "execution_count": 32,
     "metadata": {},
     "output_type": "execute_result"
    }
   ],
   "source": [
    "# observations in each class\n",
    "dataset['Class'].value_counts()"
   ]
  },
  {
   "cell_type": "code",
   "execution_count": 33,
   "id": "cb0fd300-9b17-44a7-ac9c-676ceaa82fb1",
   "metadata": {},
   "outputs": [],
   "source": [
    "# matrix of features\n",
    "x = dataset.drop(labels=['Class'], axis=1)"
   ]
  },
  {
   "cell_type": "code",
   "execution_count": 34,
   "id": "b00b04a3-4840-4e7a-b89f-7e36c497c84b",
   "metadata": {},
   "outputs": [],
   "source": [
    "# dependent variable\n",
    "y = dataset['Class']"
   ]
  },
  {
   "cell_type": "code",
   "execution_count": 35,
   "id": "5bc5dd96-ee23-48fd-918e-cfa93a86fca8",
   "metadata": {},
   "outputs": [
    {
     "data": {
      "text/plain": [
       "((984, 30), (984,))"
      ]
     },
     "execution_count": 35,
     "metadata": {},
     "output_type": "execute_result"
    }
   ],
   "source": [
    "x.shape, y.shape"
   ]
  },
  {
   "cell_type": "code",
   "execution_count": 36,
   "id": "6432f37d-089b-4125-8e9d-4f345a7145d5",
   "metadata": {},
   "outputs": [],
   "source": [
    "# splitting the dataset into train and test set\n",
    "from sklearn.model_selection import train_test_split\n",
    "x_train, x_test, y_train, y_test = train_test_split(x, y, test_size = 0.2, random_state = 0)"
   ]
  },
  {
   "cell_type": "code",
   "execution_count": 37,
   "id": "07deff6e-9e37-414c-84ab-c637aa5a16a7",
   "metadata": {},
   "outputs": [
    {
     "data": {
      "text/plain": [
       "((787, 30), (197, 30))"
      ]
     },
     "execution_count": 37,
     "metadata": {},
     "output_type": "execute_result"
    }
   ],
   "source": [
    "x_train.shape, x_test.shape"
   ]
  },
  {
   "cell_type": "code",
   "execution_count": 38,
   "id": "f7a2207f-5af4-4753-a006-0d5863fb51e0",
   "metadata": {},
   "outputs": [],
   "source": [
    "# feature scaling\n",
    "from sklearn.preprocessing import StandardScaler\n",
    "sc = StandardScaler()\n",
    "x_train = sc.fit_transform(x_train)\n",
    "x_test = sc.transform(x_test)"
   ]
  },
  {
   "cell_type": "code",
   "execution_count": 39,
   "id": "a344a0f9-8d57-46c4-9445-de84179db63f",
   "metadata": {},
   "outputs": [
    {
     "data": {
      "text/plain": [
       "array([[ 1.24503451,  0.59063886, -1.39170074, ..., -0.41761927,\n",
       "        -0.03017636,  3.29959252],\n",
       "       [-0.79795574,  0.51039041, -0.11974136, ...,  0.46991133,\n",
       "         0.59072259, -0.46345198],\n",
       "       [-0.83451241,  0.19136852,  0.07893051, ...,  0.30760655,\n",
       "         0.43649536, -0.46230585],\n",
       "       ...,\n",
       "       [ 1.44030565,  0.3111526 , -0.30195703, ..., -0.39112634,\n",
       "        -0.41694066, -0.2908633 ],\n",
       "       [ 0.4917487 ,  0.37363924, -0.43451811, ...,  0.02260789,\n",
       "         0.07534325, -0.03732891],\n",
       "       [-0.68068178,  0.6591253 , -0.79819997, ..., -0.09025089,\n",
       "        -0.0663762 , -0.13284008]])"
      ]
     },
     "execution_count": 39,
     "metadata": {},
     "output_type": "execute_result"
    }
   ],
   "source": [
    "x_train"
   ]
  },
  {
   "cell_type": "code",
   "execution_count": 40,
   "id": "28869d05-e241-4faf-afaa-2966118f84fe",
   "metadata": {},
   "outputs": [],
   "source": [
    "y_train = y_train.to_numpy()\n",
    "y_test = y_test.to_numpy()"
   ]
  },
  {
   "cell_type": "code",
   "execution_count": 41,
   "id": "efd7aa18-df6e-4f22-a8fe-24cc9db0f405",
   "metadata": {},
   "outputs": [
    {
     "data": {
      "text/plain": [
       "((787, 30), (197, 30))"
      ]
     },
     "execution_count": 41,
     "metadata": {},
     "output_type": "execute_result"
    }
   ],
   "source": [
    "x_train.shape, x_test.shape"
   ]
  },
  {
   "cell_type": "code",
   "execution_count": 42,
   "id": "acfa6d3e-e14e-4772-8b5d-5bf156df620c",
   "metadata": {},
   "outputs": [],
   "source": [
    "# reshape the dataset\n",
    "x_train = x_train.reshape(787, 30, 1)\n",
    "x_test = x_test.reshape(197, 30, 1)"
   ]
  },
  {
   "cell_type": "code",
   "execution_count": 43,
   "id": "30da5806-469d-436e-bed9-b72dfa26acc7",
   "metadata": {},
   "outputs": [
    {
     "data": {
      "text/plain": [
       "((787, 30, 1), (197, 30, 1))"
      ]
     },
     "execution_count": 43,
     "metadata": {},
     "output_type": "execute_result"
    }
   ],
   "source": [
    "x_train.shape, x_test.shape"
   ]
  },
  {
   "cell_type": "code",
   "execution_count": 44,
   "id": "b9bffd99-e47b-485e-b4bf-dd1bc9cc06da",
   "metadata": {},
   "outputs": [
    {
     "name": "stdout",
     "output_type": "stream",
     "text": [
      "WARNING:tensorflow:From C:\\Users\\Inaam-ul-Haq\\anaconda3\\envs\\tensorflow\\lib\\site-packages\\keras\\src\\backend.py:873: The name tf.get_default_graph is deprecated. Please use tf.compat.v1.get_default_graph instead.\n",
      "\n"
     ]
    }
   ],
   "source": [
    "# defining an object\n",
    "model = tf.keras.models.Sequential()"
   ]
  },
  {
   "cell_type": "code",
   "execution_count": 45,
   "id": "45fe68f9-b104-49cd-b795-87d9856f333d",
   "metadata": {},
   "outputs": [
    {
     "name": "stdout",
     "output_type": "stream",
     "text": [
      "WARNING:tensorflow:From C:\\Users\\Inaam-ul-Haq\\anaconda3\\envs\\tensorflow\\lib\\site-packages\\keras\\src\\backend.py:6642: The name tf.nn.max_pool is deprecated. Please use tf.nn.max_pool2d instead.\n",
      "\n"
     ]
    }
   ],
   "source": [
    "# first CNN layer\n",
    "model.add(tf.keras.layers.Conv1D(filters=32, kernel_size=2, padding='same', activation='relu', input_shape = (30, 1)))\n",
    "\n",
    "# batch normalization\n",
    "model.add(tf.keras.layers.BatchNormalization())\n",
    "\n",
    "# maxpool layer\n",
    "model.add(tf.keras.layers.MaxPool1D(pool_size=2))\n",
    "\n",
    "# dropout layer\n",
    "model.add(tf.keras.layers.Dropout(0.2))\n",
    "\n",
    "# second CNN layer\n",
    "model.add(tf.keras.layers.Conv1D(filters=64, kernel_size=2, padding='same', activation='relu'))\n",
    "\n",
    "# batch normalization\n",
    "model.add(tf.keras.layers.BatchNormalization())\n",
    "\n",
    "# maxpool layer\n",
    "model.add(tf.keras.layers.MaxPool1D(pool_size=2))\n",
    "\n",
    "# dropout layer\n",
    "model.add(tf.keras.layers.Dropout(0.3))\n",
    "\n",
    "# flatten layer\n",
    "model.add(tf.keras.layers.Flatten())\n",
    "\n",
    "# first dense layer\n",
    "model.add(tf.keras.layers.Dense(units=64, activation='relu'))\n",
    "\n",
    "# dropout layer\n",
    "model.add(tf.keras.layers.Dropout(0.3))\n",
    "\n",
    "# output layer\n",
    "model.add(tf.keras.layers.Dense(units=1, activation='sigmoid'))"
   ]
  },
  {
   "cell_type": "code",
   "execution_count": 46,
   "id": "fa0ac8b7-b061-423e-9723-839463e3eea1",
   "metadata": {},
   "outputs": [
    {
     "name": "stdout",
     "output_type": "stream",
     "text": [
      "Model: \"sequential\"\n",
      "_________________________________________________________________\n",
      " Layer (type)                Output Shape              Param #   \n",
      "=================================================================\n",
      " conv1d (Conv1D)             (None, 30, 32)            96        \n",
      "                                                                 \n",
      " batch_normalization (Batch  (None, 30, 32)            128       \n",
      " Normalization)                                                  \n",
      "                                                                 \n",
      " max_pooling1d (MaxPooling1  (None, 15, 32)            0         \n",
      " D)                                                              \n",
      "                                                                 \n",
      " dropout (Dropout)           (None, 15, 32)            0         \n",
      "                                                                 \n",
      " conv1d_1 (Conv1D)           (None, 15, 64)            4160      \n",
      "                                                                 \n",
      " batch_normalization_1 (Bat  (None, 15, 64)            256       \n",
      " chNormalization)                                                \n",
      "                                                                 \n",
      " max_pooling1d_1 (MaxPoolin  (None, 7, 64)             0         \n",
      " g1D)                                                            \n",
      "                                                                 \n",
      " dropout_1 (Dropout)         (None, 7, 64)             0         \n",
      "                                                                 \n",
      " flatten (Flatten)           (None, 448)               0         \n",
      "                                                                 \n",
      " dense (Dense)               (None, 64)                28736     \n",
      "                                                                 \n",
      " dropout_2 (Dropout)         (None, 64)                0         \n",
      "                                                                 \n",
      " dense_1 (Dense)             (None, 1)                 65        \n",
      "                                                                 \n",
      "=================================================================\n",
      "Total params: 33441 (130.63 KB)\n",
      "Trainable params: 33249 (129.88 KB)\n",
      "Non-trainable params: 192 (768.00 Byte)\n",
      "_________________________________________________________________\n"
     ]
    }
   ],
   "source": [
    "model.summary()"
   ]
  },
  {
   "cell_type": "code",
   "execution_count": 47,
   "id": "584221e4-0e1b-42be-a9b7-776328055dee",
   "metadata": {},
   "outputs": [],
   "source": [
    "opt = tf.keras.optimizers.Adam(learning_rate=0.0001)"
   ]
  },
  {
   "cell_type": "code",
   "execution_count": 48,
   "id": "76797199-23a4-4793-88ff-02565b01407f",
   "metadata": {},
   "outputs": [],
   "source": [
    "model.compile(optimizer=opt, loss='binary_crossentropy', metrics=['accuracy'])"
   ]
  },
  {
   "cell_type": "code",
   "execution_count": 49,
   "id": "31be0fe3-6807-4389-86b9-40f395fa3b95",
   "metadata": {},
   "outputs": [
    {
     "name": "stdout",
     "output_type": "stream",
     "text": [
      "Epoch 1/25\n",
      "WARNING:tensorflow:From C:\\Users\\Inaam-ul-Haq\\anaconda3\\envs\\tensorflow\\lib\\site-packages\\keras\\src\\utils\\tf_utils.py:492: The name tf.ragged.RaggedTensorValue is deprecated. Please use tf.compat.v1.ragged.RaggedTensorValue instead.\n",
      "\n",
      "WARNING:tensorflow:From C:\\Users\\Inaam-ul-Haq\\anaconda3\\envs\\tensorflow\\lib\\site-packages\\keras\\src\\engine\\base_layer_utils.py:384: The name tf.executing_eagerly_outside_functions is deprecated. Please use tf.compat.v1.executing_eagerly_outside_functions instead.\n",
      "\n",
      "25/25 [==============================] - 3s 20ms/step - loss: 0.7554 - accuracy: 0.6213 - val_loss: 0.6233 - val_accuracy: 0.8325\n",
      "Epoch 2/25\n",
      "25/25 [==============================] - 0s 8ms/step - loss: 0.5569 - accuracy: 0.7306 - val_loss: 0.5757 - val_accuracy: 0.7868\n",
      "Epoch 3/25\n",
      "25/25 [==============================] - 0s 8ms/step - loss: 0.4703 - accuracy: 0.7916 - val_loss: 0.5416 - val_accuracy: 0.7259\n",
      "Epoch 4/25\n",
      "25/25 [==============================] - 0s 8ms/step - loss: 0.4609 - accuracy: 0.8132 - val_loss: 0.5135 - val_accuracy: 0.7259\n",
      "Epoch 5/25\n",
      "25/25 [==============================] - 0s 8ms/step - loss: 0.3917 - accuracy: 0.8221 - val_loss: 0.4875 - val_accuracy: 0.7259\n",
      "Epoch 6/25\n",
      "25/25 [==============================] - 0s 8ms/step - loss: 0.3465 - accuracy: 0.8564 - val_loss: 0.4617 - val_accuracy: 0.7563\n",
      "Epoch 7/25\n",
      "25/25 [==============================] - 0s 8ms/step - loss: 0.3310 - accuracy: 0.8679 - val_loss: 0.4352 - val_accuracy: 0.7766\n",
      "Epoch 8/25\n",
      "25/25 [==============================] - 0s 8ms/step - loss: 0.3238 - accuracy: 0.8704 - val_loss: 0.4078 - val_accuracy: 0.8173\n",
      "Epoch 9/25\n",
      "25/25 [==============================] - 0s 8ms/step - loss: 0.3137 - accuracy: 0.8780 - val_loss: 0.3810 - val_accuracy: 0.8223\n",
      "Epoch 10/25\n",
      "25/25 [==============================] - 0s 8ms/step - loss: 0.3061 - accuracy: 0.8767 - val_loss: 0.3531 - val_accuracy: 0.8376\n",
      "Epoch 11/25\n",
      "25/25 [==============================] - 0s 8ms/step - loss: 0.2793 - accuracy: 0.8907 - val_loss: 0.3245 - val_accuracy: 0.8680\n",
      "Epoch 12/25\n",
      "25/25 [==============================] - 0s 8ms/step - loss: 0.2802 - accuracy: 0.8920 - val_loss: 0.2989 - val_accuracy: 0.8782\n",
      "Epoch 13/25\n",
      "25/25 [==============================] - 0s 8ms/step - loss: 0.2913 - accuracy: 0.8996 - val_loss: 0.2765 - val_accuracy: 0.8883\n",
      "Epoch 14/25\n",
      "25/25 [==============================] - 0s 8ms/step - loss: 0.2698 - accuracy: 0.8907 - val_loss: 0.2573 - val_accuracy: 0.8883\n",
      "Epoch 15/25\n",
      "25/25 [==============================] - 0s 8ms/step - loss: 0.2449 - accuracy: 0.9060 - val_loss: 0.2407 - val_accuracy: 0.9137\n",
      "Epoch 16/25\n",
      "25/25 [==============================] - 0s 11ms/step - loss: 0.2803 - accuracy: 0.8933 - val_loss: 0.2276 - val_accuracy: 0.9137\n",
      "Epoch 17/25\n",
      "25/25 [==============================] - 0s 8ms/step - loss: 0.2737 - accuracy: 0.9136 - val_loss: 0.2189 - val_accuracy: 0.9137\n",
      "Epoch 18/25\n",
      "25/25 [==============================] - 0s 8ms/step - loss: 0.2413 - accuracy: 0.9149 - val_loss: 0.2099 - val_accuracy: 0.9137\n",
      "Epoch 19/25\n",
      "25/25 [==============================] - 0s 9ms/step - loss: 0.2481 - accuracy: 0.8996 - val_loss: 0.2003 - val_accuracy: 0.9188\n",
      "Epoch 20/25\n",
      "25/25 [==============================] - 0s 10ms/step - loss: 0.2597 - accuracy: 0.9136 - val_loss: 0.1933 - val_accuracy: 0.9188\n",
      "Epoch 21/25\n",
      "25/25 [==============================] - 0s 8ms/step - loss: 0.2364 - accuracy: 0.9187 - val_loss: 0.1871 - val_accuracy: 0.9188\n",
      "Epoch 22/25\n",
      "25/25 [==============================] - 0s 8ms/step - loss: 0.2323 - accuracy: 0.9187 - val_loss: 0.1824 - val_accuracy: 0.9188\n",
      "Epoch 23/25\n",
      "25/25 [==============================] - 0s 8ms/step - loss: 0.2173 - accuracy: 0.9225 - val_loss: 0.1782 - val_accuracy: 0.9289\n",
      "Epoch 24/25\n",
      "25/25 [==============================] - 0s 8ms/step - loss: 0.2220 - accuracy: 0.9174 - val_loss: 0.1747 - val_accuracy: 0.9340\n",
      "Epoch 25/25\n",
      "25/25 [==============================] - 0s 8ms/step - loss: 0.2334 - accuracy: 0.9149 - val_loss: 0.1731 - val_accuracy: 0.9289\n"
     ]
    }
   ],
   "source": [
    "history = model.fit(x_train, y_train, epochs=25, validation_data=(x_test, y_test))"
   ]
  },
  {
   "cell_type": "code",
   "execution_count": 51,
   "id": "58dca5e4-da21-43a7-a34e-3b79d49ef0d3",
   "metadata": {},
   "outputs": [
    {
     "name": "stdout",
     "output_type": "stream",
     "text": [
      "7/7 [==============================] - 0s 3ms/step\n"
     ]
    }
   ],
   "source": [
    "# model predictions\n",
    "y_pred = model.predict(x_test) "
   ]
  },
  {
   "cell_type": "code",
   "execution_count": 52,
   "id": "816494a3-7d70-438f-a4c5-e519b5360803",
   "metadata": {},
   "outputs": [
    {
     "name": "stdout",
     "output_type": "stream",
     "text": [
      "[0.999991]\n",
      "1\n"
     ]
    },
    {
     "data": {
      "text/plain": [
       "(None, None)"
      ]
     },
     "execution_count": 52,
     "metadata": {},
     "output_type": "execute_result"
    }
   ],
   "source": [
    "print(y_pred[12]), print(y_test[12])"
   ]
  },
  {
   "cell_type": "code",
   "execution_count": 55,
   "id": "9542214e-a0fc-498c-99de-f0c92ce54d5a",
   "metadata": {},
   "outputs": [],
   "source": [
    "def learning_curve(history, epoch):\n",
    "\n",
    "  # training vs validation accuracy\n",
    "  epoch_range = range(1, epoch+1)\n",
    "  plt.plot(epoch_range, history.history['accuracy'])\n",
    "  plt.plot(epoch_range, history.history['val_accuracy'])\n",
    "  plt.title('Model Accuracy')\n",
    "  plt.ylabel('Accuracy')\n",
    "  plt.xlabel('Epoch')\n",
    "  plt.legend(['Train', 'val'], loc='upper left')\n",
    "  plt.show()\n",
    "\n",
    "  # training vs validation loss\n",
    "  plt.plot(epoch_range, history.history['loss'])\n",
    "  plt.plot(epoch_range, history.history['val_loss'])\n",
    "  plt.title('Model Loss')\n",
    "  plt.ylabel('Loss')\n",
    "  plt.xlabel('Epoch')\n",
    "  plt.legend(['Train', 'val'], loc='upper left')\n",
    "  plt.show()"
   ]
  },
  {
   "cell_type": "code",
   "execution_count": 56,
   "id": "445ac8c4-aa10-4bc0-b170-de3b05bc87a2",
   "metadata": {},
   "outputs": [
    {
     "data": {
      "image/png": "[encoded data removed]",
      "text/plain": [
       "<Figure size 640x480 with 1 Axes>"
      ]
     },
     "metadata": {},
     "output_type": "display_data"
    },
    {
     "data": {
      "image/png": "[encoded data removed]",
      "text/plain": [
       "<Figure size 640x480 with 1 Axes>"
      ]
     },
     "metadata": {},
     "output_type": "display_data"
    }
   ],
   "source": [
    "learning_curve(history, 25)"
   ]
  },
  {
   "cell_type": "code",
   "execution_count": null,
   "id": "d16cb05d-e0ef-49b0-9e19-3f1d745f3b0c",
   "metadata": {},
   "outputs": [],
   "source": []
  }
 ],
 "metadata": {
  "kernelspec": {
   "display_name": "Python 3 (ipykernel)",
   "language": "python",
   "name": "python3"
  },
  "language_info": {
   "codemirror_mode": {
    "name": "ipython",
    "version": 3
   },
   "file_extension": ".py",
   "mimetype": "text/x-python",
   "name": "python",
   "nbconvert_exporter": "python",
   "pygments_lexer": "ipython3",
   "version": "3.9.18"
  }
 },
 "nbformat": 4,
 "nbformat_minor": 5
}
